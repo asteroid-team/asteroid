{
 "nbformat": 4,
 "nbformat_minor": 0,
 "metadata": {
  "colab": {
   "name": "01-AsteroidGettingStarted.ipynb",
   "provenance": [],
   "collapsed_sections": [
    "jgV5DXxPhU3h",
    "NEMccxSyO7wd",
    "Ni8S1Owm_J32",
    "D2XyR6K5OBvS",
    "0v76oPR2NnUO"
   ]
  },
  "kernelspec": {
   "name": "python3",
   "display_name": "Python 3"
  }
 },
 "cells": [
  {
   "cell_type": "markdown",
   "metadata": {
    "id": "jgV5DXxPhU3h",
    "colab_type": "text"
   },
   "source": [
    "[![Open In Colab](https://colab.research.google.com/assets/colab-badge.svg)](http://colab.research.google.com/github/mpariente/asteroid/blob/master/examples/01_AsteroidGettingStarted.ipynb)\n",
    "\n",
    "### Introduction\n",
    "Asteroid is an open-source, community-based toolkit made to design, train, evaluate, use and share audio source separation models such as Deep clustering ([Hershey et al.](https://arxiv.org/abs/1508.04306)), ConvTasNet ([Luo et al.](https://arxiv.org/abs/1809.07454)) DPRNN ([Luo et al.](https://arxiv.org/abs/1910.06379)) etc..  \n",
    "Along with the models, Asteroid provides building blocks, losses, metrics and datasets commonly used in source separation. This makes it easy to design new source separation models and benchmark them against others ! \n",
    "\n",
    "For training, Asteroid relies of the great [PyTorchLightning](https://github.com/PyTorchLightning/pytorch-lightning), which handles automatic distributed training, logging, experiment resume and much more, be sure to check it out! For the rest, it's native [PyTorch](https://pytorch.org).\n",
    "\n",
    "Enough talking, let's start !"
   ]
  },
  {
   "cell_type": "code",
   "metadata": {
    "id": "J9tFIeeXc9A6",
    "colab_type": "code",
    "colab": {}
   },
   "source": [
    "# First off, install asteroid\n",
    "!pip install git+https://github.com/mpariente/asteroid"
   ],
   "execution_count": 0,
   "outputs": []
  },
  {
   "cell_type": "markdown",
   "metadata": {
    "id": "QafOSbv5OooS",
    "colab_type": "text"
   },
   "source": [
    "#### Designing new models with Asteroid\n",
    "#### Running recipes"
   ]
  },
  {
   "cell_type": "markdown",
   "metadata": {
    "id": "NEMccxSyO7wd",
    "colab_type": "text"
   },
   "source": [
    "### Waveform transformations & features\n",
    "Time-frequency transformations are often performed on waveforms before feeding them to source separation models. Most of them can be formulated as convolutions with specific (learned or not) filterbank. Their inverses, mapping back to time domain, can be formulated as transposed convolution. \n",
    "Asteroid proposes a unified view of this transformations, which is implemented with the classes `Filterbank`, `Encoder` and `Decoder`."
   ]
  },
  {
   "cell_type": "markdown",
   "metadata": {
    "id": "3alvBplu8ckU",
    "colab_type": "text"
   },
   "source": [
    "The `Filterbank` object is the one holding the actual filters that are used to compute the transforms. `Encoder` and `Decoder` are applied on top to provide method to go back and forth from waveform to time-frequency domain.\n",
    "\n",
    "A common example is the one of the STFT, that can be defined as follows:\n"
   ]
  },
  {
   "cell_type": "code",
   "metadata": {
    "id": "3Kfof5Ik9M7y",
    "colab_type": "code",
    "colab": {}
   },
   "source": [
    "from asteroid.filterbanks import STFTFB, Encoder, Decoder\n",
    "# First, instantiate the STFT filterbank\n",
    "fb = STFTFB(n_filters=256, kernel_size=128, stride=64)\n",
    "# Make an encoder out of it, forward some waveform through it.\n",
    "encoder = Encoder(fb)\n",
    "# Same for decoder\n",
    "decoder_fb = STFTFB(n_filters=256, kernel_size=128, stride=64)\n",
    "decoder = Decoder(decoder_fb)\n",
    "\n",
    "# The preceding lines can also be obtained faster with these lines\n",
    "from asteroid.filterbanks import make_enc_dec\n",
    "encoder, decoder = make_enc_dec('stft', n_filters=256, \n",
    "                                kernel_size=128, stride=64)\n",
    "\n"
   ],
   "execution_count": 0,
   "outputs": []
  },
  {
   "cell_type": "markdown",
   "metadata": {
    "id": "mWN27rzg-DLi",
    "colab_type": "text"
   },
   "source": [
    "From there, the interface of `Encoder` is the same as the one from `torch.nn.Conv1d` and `Decoder` as `torch.nn.ConvTranspose1d`, and a waveform-like object can be transformed like this:"
   ]
  },
  {
   "cell_type": "code",
   "metadata": {
    "id": "DLSk_QDK-C24",
    "colab_type": "code",
    "colab": {}
   },
   "source": [
    "import torch\n",
    "# Waveform-like\n",
    "wav = torch.randn(2, 1, 16000)\n",
    "# Time-frequency representation\n",
    "tf_rep = encoder(wav)\n",
    "# Back to time domain\n",
    "wav_back = decoder(tf_rep)"
   ],
   "execution_count": 0,
   "outputs": []
  },
  {
   "cell_type": "markdown",
   "metadata": {
    "id": "McWJACMQ-6Eo",
    "colab_type": "text"
   },
   "source": [
    "More info on automatic pseudo-inverse, how to define your own filterbanks etc.. can be found in the [Filterbank notebook]()."
   ]
  },
  {
   "cell_type": "markdown",
   "metadata": {
    "id": "Ni8S1Owm_J32",
    "colab_type": "text"
   },
   "source": [
    "### Masker network & Separation models \n",
    "Asteroid aims at providing most state-of-the-art masker neural network. \n",
    "Some of these masking networks and/or separation models share building blocks such as residual LSTMs or D-Conv-based convolutional blocks. \n",
    "Asteroid provides these building blocks as well as common masker networks with building blocks already assembled (eg. `TDConvNet` or `DPRNN`)."
   ]
  },
  {
   "cell_type": "markdown",
   "metadata": {
    "id": "gGSI1fn6AqkZ",
    "colab_type": "text"
   },
   "source": [
    "These blocks are already configured optimally according to the corresponding papers, just import them and run ! "
   ]
  },
  {
   "cell_type": "code",
   "metadata": {
    "id": "5bfGL-Q-Ap4v",
    "colab_type": "code",
    "colab": {}
   },
   "source": [
    "from asteroid.masknn import TDConvNet\n",
    "# We only need to specify the number of input channels\n",
    "# and the number of sources we want to estimate.\n",
    "masker = TDConvNet(in_chan=128, n_src=2)\n",
    "\n",
    "# Now, we can use it to estimate some masks!\n",
    "tf_rep = torch.randn(2, 128, 10)\n",
    "wav_back = masker(tf_rep)"
   ],
   "execution_count": 0,
   "outputs": []
  },
  {
   "cell_type": "markdown",
   "metadata": {
    "id": "JkDMqRgIDgY8",
    "colab_type": "text"
   },
   "source": [
    "Let's put the encoder, masker and decoder together in an `nn.Module` to make it all simple."
   ]
  },
  {
   "cell_type": "code",
   "metadata": {
    "id": "E-sHcI4rDyf0",
    "colab_type": "code",
    "colab": {}
   },
   "source": [
    "from asteroid.filterbanks import make_enc_dec\n",
    "\n",
    "class Model(torch.nn.Module):\n",
    "    def __init__(self):\n",
    "        super().__init__()\n",
    "        # Encoder and Decode in \"one line\"\n",
    "        self.enc, self.dec = make_enc_dec(\n",
    "            'stft', n_filters=256, kernel_size=128, stride=64\n",
    "            )\n",
    "        # # Mask network from ConvTasNet in one line.\n",
    "        self.masker = TDConvNet(in_chan=self.enc.n_feats_out, \n",
    "                                n_src=2)\n",
    "    \n",
    "    def forward(self, wav):\n",
    "        # Simplified forward\n",
    "        tf_rep = self.enc(wav)\n",
    "        masks = self.masker(tf_rep)\n",
    "        wavs_out = self.dec(tf_rep.unsqueeze(1) * masks)\n",
    "        return wavs_out\n",
    "\n",
    "\n",
    "# Define and forward \n",
    "stft_conv_tasnet = Model()\n",
    "wav_out = stft_conv_tasnet(torch.randn(1, 1, 16000))"
   ],
   "execution_count": 0,
   "outputs": []
  },
  {
   "cell_type": "markdown",
   "metadata": {
    "id": "x-pwTAfbFHMZ",
    "colab_type": "text"
   },
   "source": [
    "Actually, for models like ConvTasNet, they can directly be imported and used from asteroid like this :\n"
   ]
  },
  {
   "cell_type": "code",
   "metadata": {
    "id": "6n3temjFIV5H",
    "colab_type": "code",
    "colab": {}
   },
   "source": [
    "from asteroid import ConvTasNet\n",
    "model = ConvTasNet(n_src=2)"
   ],
   "execution_count": 0,
   "outputs": []
  },
  {
   "cell_type": "markdown",
   "metadata": {
    "id": "_icj67ZAKpFS",
    "colab_type": "text"
   },
   "source": [
    "### Datasets and DataLoader\n",
    "We support several source separation datasets, you can find more information on them in the docs. \n",
    "Note that their is no common API between them, preparing the data in the format expected by the `Dataset` is the role of the recipes.\n",
    "\n",
    "In order to experiment easily, we added a small part of LibriMix for direct download."
   ]
  },
  {
   "cell_type": "code",
   "metadata": {
    "id": "mCkcZ7aXOSOh",
    "colab_type": "code",
    "colab": {}
   },
   "source": [
    "from asteroid.data import LibriMix\n",
    "\n",
    "train_set, val_set = LibriMix.from_download(task='sep_clean')"
   ],
   "execution_count": 0,
   "outputs": []
  },
  {
   "cell_type": "markdown",
   "metadata": {
    "id": "RwA632V3XaBV",
    "colab_type": "text"
   },
   "source": [
    "### Loss functions\n",
    "Asteroid provides several loss functions that are commonly used for source separation or speech enhancement. More importantly, we also provide `PITLossWrapper`, an efficient wrapper that can turn any loss function into a permutation invariant loss. "
   ]
  },
  {
   "cell_type": "markdown",
   "metadata": {
    "id": "O5NijgIOX1CZ",
    "colab_type": "text"
   },
   "source": [
    "For example, defining a permuatation invariant si-sdr loss, run"
   ]
  },
  {
   "cell_type": "code",
   "metadata": {
    "id": "vg8eZXmiYAEN",
    "colab_type": "code",
    "colab": {}
   },
   "source": [
    "from asteroid.losses import PITLossWrapper, pairwise_neg_sisdr\n",
    "\n",
    "\n",
    "loss_func = PITLossWrapper(pairwise_neg_sisdr, pit_from='pw_mtx')"
   ],
   "execution_count": 0,
   "outputs": []
  },
  {
   "cell_type": "markdown",
   "metadata": {
    "id": "TzQRTk6QYKd_",
    "colab_type": "text"
   },
   "source": [
    "You can find more info about this in the [PIT loss tutorial]()."
   ]
  },
  {
   "cell_type": "markdown",
   "metadata": {
    "id": "2gPbCAjGIJNC",
    "colab_type": "text"
   },
   "source": [
    "### Training\n",
    "\n",
    "For training, Asteroid relies on PyTorchLightning which automatizes almost everything for us. We have a thin wrapper around it to make things even simpler.\n"
   ]
  },
  {
   "cell_type": "markdown",
   "metadata": {
    "id": "D2XyR6K5OBvS",
    "colab_type": "text"
   },
   "source": [
    "#### Putting all ingredients together with `System`\n",
    "To use PyTorchLightning, we need to define all the ingredients (dataloaders, model, loss functions, optimizers, etc..) into one object, the `LightningModule`. In order to keep things separate and re-usable, and to reduce boilerplate, we define a sub-class, `System`, which expects these ingredients separately. \n",
    "\n"
   ]
  },
  {
   "cell_type": "markdown",
   "metadata": {
    "id": "fE7m8VunUmM4",
    "colab_type": "text"
   },
   "source": [
    "Additionally, `LightningModule` needs to expose the `training_step` and `validation_step` functions. It is usual for these functions to be shared or really similar so we grouped them under `common_step`.\n",
    "```\n",
    "class System(pl.LightningModule):\n",
    "    def __init__(self, model, optimizer, loss_func, train_loader,\n",
    "                 val_loader=None, scheduler=None, config=None):\n",
    "      ...\n",
    "\n",
    "    def common_step(self, batch, batch_nb, train=True):\n",
    "        inputs, targets = batch\n",
    "        est_targets = self(inputs)\n",
    "        loss = self.loss_func(est_targets, targets)\n",
    "        return loss\n",
    "```"
   ]
  },
  {
   "cell_type": "markdown",
   "metadata": {
    "id": "iBuioyXlXGmU",
    "colab_type": "text"
   },
   "source": [
    "#### Example training script"
   ]
  },
  {
   "cell_type": "code",
   "metadata": {
    "id": "P0V-TatleOUi",
    "colab_type": "code",
    "colab": {}
   },
   "source": [
    "from torch.optim import Adam\n",
    "from torch.utils.data import DataLoader\n",
    "import pytorch_lightning as pl\n",
    "\n",
    "from asteroid.data import LibriMix\n",
    "from asteroid.engine.system import System\n",
    "from asteroid.losses import PITLossWrapper, pairwise_neg_sisdr\n",
    "from asteroid import ConvTasNet\n",
    "\n",
    "train_set, val_set = LibriMix.from_download(task='sep_clean')\n",
    "train_loader = DataLoader(train_set, batch_size=4, drop_last=True)\n",
    "val_loader = DataLoader(val_set, batch_size=4, drop_last=True)\n",
    "\n",
    "# Define model and optimizer (one repeat to be faster)\n",
    "model = ConvTasNet(n_src=2, n_repeats=1)\n",
    "optimizer = Adam(model.parameters(), lr=1e-3)\n",
    "# Define Loss function.\n",
    "loss_func = PITLossWrapper(pairwise_neg_sisdr, pit_from='pw_mtx')\n",
    "# Define System\n",
    "system = System(model=model, loss_func=loss_func, optimizer=optimizer,\n",
    "                train_loader=train_loader, val_loader=val_loader)\n",
    "# Define lightning trainer, and train\n",
    "trainer = pl.Trainer()\n",
    "trainer.fit(system)"
   ],
   "execution_count": 0,
   "outputs": []
  },
  {
   "cell_type": "markdown",
   "metadata": {
    "id": "0v76oPR2NnUO",
    "colab_type": "text"
   },
   "source": [
    "#### Extending `System`\n",
    "If your model or data is a bit different, changing `System` is easy, just overwrite the `common_step` method."
   ]
  },
  {
   "cell_type": "code",
   "metadata": {
    "id": "kRzawfhvTNVH",
    "colab_type": "code",
    "colab": {}
   },
   "source": [
    "# Example of how simple it is to define a new System with \n",
    "# different training dynamic.\n",
    "class YourSystem(System):\n",
    "    def common_step(self, batch, batch_nb, train=True):\n",
    "        # Your DataLoader returns three tensors\n",
    "        inputs, some_other_input, targets = batch\n",
    "        # Your model returns two.\n",
    "        est_targets, some_other_output = self(inputs, some_other_input)\n",
    "        if train:\n",
    "            # Your loss takes three argument\n",
    "            loss = self.loss_func(est_targets, targets, cond=some_other_output)\n",
    "        else:\n",
    "            # At validation time, you don't want cond \n",
    "            loss = self.loss_func(est_targets, targets)\n",
    "        return loss"
   ],
   "execution_count": 0,
   "outputs": []
  },
  {
   "cell_type": "markdown",
   "metadata": {
    "id": "TDE_DnmfTX_U",
    "colab_type": "text"
   },
   "source": [
    "Of course, Asteroid is not limited to using `System` as this is pure PyTorchLightning and more complicated use cases might not benefit from `System`. In this case, writing a `LightningModule` would be the way to go !"
   ]
  }
 ]
}
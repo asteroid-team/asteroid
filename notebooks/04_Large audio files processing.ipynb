{
 "cells": [
  {
   "cell_type": "code",
   "execution_count": 3,
   "metadata": {},
   "outputs": [],
   "source": [
    "from asteroid.models import ConvTasNet\n",
    "from asteroid.dsp.overlap_add import LambdaOverlapAdd\n",
    "import torch\n",
    "\n",
    "\n",
    "nnet = ConvTasNet(n_src=2)\n",
    "continuous_nnet = LambdaOverlapAdd(nnet=nnet, # function to apply to each segment.\n",
    "                                   n_src=2, # number of sources in the output of nnet\n",
    "                                   window_size=64000, # Size of segmenting window\n",
    "                                   hop_size=None, # segmentation hop size\n",
    "                                   window=\"hanning\", # Type of the window (see scipy.signal.get_window\n",
    "                                   reorder_chunks=True, # Whether to reorder each consecutive segment.\n",
    "                                   enable_grad=False, # Set gradient calculation on of off (see torch.set_grad_enabled)\n",
    "                                  )\n",
    "# continuous_nnet.cuda(3) If you want to use GPU call cuda() with wrapper\n",
    "wav = torch.randn(1, 1, 500000)#.to(torch.device('cuda:3'))\n",
    "out_wavs = continuous_nnet.forward(wav)"
   ]
  },
  {
   "cell_type": "code",
   "execution_count": null,
   "metadata": {},
   "outputs": [],
   "source": []
  }
 ],
 "metadata": {
  "kernelspec": {
   "display_name": "Deepspeech37",
   "language": "python",
   "name": "deepspeech"
  },
  "language_info": {
   "codemirror_mode": {
    "name": "ipython",
    "version": 3
   },
   "file_extension": ".py",
   "mimetype": "text/x-python",
   "name": "python",
   "nbconvert_exporter": "python",
   "pygments_lexer": "ipython3",
   "version": "3.7.0"
  }
 },
 "nbformat": 4,
 "nbformat_minor": 2
}
